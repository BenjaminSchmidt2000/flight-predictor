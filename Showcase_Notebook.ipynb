{
 "cells": [
  {
   "cell_type": "code",
   "execution_count": 8,
   "metadata": {
    "tags": []
   },
   "outputs": [
    {
     "name": "stdout",
     "output_type": "stream",
     "text": [
      "Unzipped data.zip to /home/tom/documents/group_19/downloads/zip_files\n"
     ]
    },
    {
     "ename": "NameError",
     "evalue": "name 'plt' is not defined",
     "output_type": "error",
     "traceback": [
      "\u001b[0;31m---------------------------------------------------------------------------\u001b[0m",
      "\u001b[0;31mNameError\u001b[0m                                 Traceback (most recent call last)",
      "Cell \u001b[0;32mIn[8], line 11\u001b[0m\n\u001b[1;32m      7\u001b[0m data_downloader \u001b[38;5;241m=\u001b[39m DataDownloader(data_url, file_name)\n\u001b[1;32m      9\u001b[0m \u001b[38;5;66;03m#plot_flights(self, airport, internal=False, fig=None, ax=None):\u001b[39;00m\n\u001b[0;32m---> 11\u001b[0m \u001b[43mdata_downloader\u001b[49m\u001b[38;5;241;43m.\u001b[39;49m\u001b[43mplot_flights\u001b[49m\u001b[43m(\u001b[49m\u001b[38;5;124;43m\"\u001b[39;49m\u001b[38;5;124;43mEdson Airport\u001b[39;49m\u001b[38;5;124;43m\"\u001b[39;49m\u001b[43m,\u001b[49m\u001b[43m \u001b[49m\u001b[43mfig\u001b[49m\u001b[43m \u001b[49m\u001b[38;5;241;43m=\u001b[39;49m\u001b[43m \u001b[49m\u001b[38;5;28;43;01mTrue\u001b[39;49;00m\u001b[43m)\u001b[49m\n",
      "File \u001b[0;32m~/documents/group_19/python_files/data_downloader.py:129\u001b[0m, in \u001b[0;36mplot_flights\u001b[0;34m(self, airport, internal, fig, ax)\u001b[0m\n\u001b[1;32m    127\u001b[0m if fig is None or ax is None:\n\u001b[1;32m    128\u001b[0m     fig, ax = plt.subplots(figsize=(10, 8))\n\u001b[0;32m--> 129\u001b[0m \n\u001b[1;32m    130\u001b[0m world = gpd.read_file(gpd.datasets.get_path('naturalearth_lowres'))\n\u001b[1;32m    131\u001b[0m \n",
      "\u001b[0;31mNameError\u001b[0m: name 'plt' is not defined"
     ]
    }
   ],
   "source": [
    "from python_files.data_downloader import DataDownloader\n",
    "import matplotlib.pyplot as plt\n",
    "\n",
    "\n",
    "data_url = \"https://gitlab.com/adpro1/adpro2024/-/raw/main/Files/flight_data.zip?inline=false\"\n",
    "file_name = \"data.zip\"\n",
    "data_downloader = DataDownloader(data_url, file_name)\n",
    "\n",
    "#plot_flights(self, airport, internal=False, fig=None, ax=None):\n",
    "\n",
    "data_downloader.plot_flights(\"Edson Airport\", fig = True)\n",
    "\n",
    "\n",
    "\n"
   ]
  }
 ],
 "metadata": {
  "kernelspec": {
   "display_name": "Python 3 (ipykernel)",
   "language": "python",
   "name": "python3"
  },
  "language_info": {
   "codemirror_mode": {
    "name": "ipython",
    "version": 3
   },
   "file_extension": ".py",
   "mimetype": "text/x-python",
   "name": "python",
   "nbconvert_exporter": "python",
   "pygments_lexer": "ipython3",
   "version": "3.10.13"
  }
 },
 "nbformat": 4,
 "nbformat_minor": 4
}
