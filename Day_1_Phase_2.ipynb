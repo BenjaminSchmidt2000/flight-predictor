{
 "cells": [
  {
   "cell_type": "code",
   "execution_count": 32,
   "metadata": {
    "tags": []
   },
   "outputs": [
    {
     "name": "stdout",
     "output_type": "stream",
     "text": [
      "Unzipped data.zip to /home/tom/documents/group_19/downloads/zip_files\n"
     ]
    }
   ],
   "source": [
    "import os\n",
    "import pandas as pd\n",
    "from urllib.request import urlretrieve\n",
    "from zipfile import ZipFile\n",
    "\n",
    "\n",
    "class DataDownloader:\n",
    "    def __init__(self, data_url, file_name):\n",
    "        self.data_url = data_url\n",
    "        self.file_name = file_name\n",
    "        self.downloads_dir = os.path.join(os.getcwd(), 'downloads')\n",
    "        self.zip_dir = os.path.join(self.downloads_dir, 'zip_files')\n",
    "\n",
    "        # Check if directories exist, create if not\n",
    "        for directory in [self.downloads_dir, self.zip_dir]:\n",
    "            if not os.path.exists(directory):\n",
    "                os.makedirs(directory)\n",
    "\n",
    "        # Check if file already exists\n",
    "        if not os.path.isfile(os.path.join(self.downloads_dir, self.file_name)):\n",
    "            self.download_data()\n",
    "\n",
    "        # Unzip the downloaded file\n",
    "        self.unzip_data()\n",
    "\n",
    "        # Read datasets into corresponding pandas dataframes\n",
    "        self.airlines_df = pd.read_csv(os.path.join(self.zip_dir, 'airlines.csv')).drop(columns = [\"index\"], axis = 1)\n",
    "        self.airplanes_df = pd.read_csv(os.path.join(self.zip_dir, 'airplanes.csv')).drop(columns = [\"index\"], axis = 1)\n",
    "        self.airports_df = pd.read_csv(os.path.join(self.zip_dir, 'airports.csv')).drop(columns = [\"index\",\"Type\",\"Source\"], axis = 1)\n",
    "        self.routes_df = pd.read_csv(os.path.join(self.zip_dir, 'routes.csv')).drop(columns = [\"index\"], axis = 1)\n",
    "\n",
    "        # Remove superfluous columns if needed\n",
    "\n",
    "    def download_data(self):\n",
    "        file_path = os.path.join(self.downloads_dir, self.file_name)\n",
    "        urlretrieve(self.data_url, file_path)\n",
    "        print(f\"Downloaded {self.file_name} to {self.downloads_dir}\")\n",
    "\n",
    "    def unzip_data(self):\n",
    "        zip_file_path = os.path.join(self.downloads_dir, self.file_name)\n",
    "        with ZipFile(zip_file_path, 'r') as zip_ref:\n",
    "            zip_ref.extractall(self.zip_dir)\n",
    "        print(f\"Unzipped {self.file_name} to {self.zip_dir}\")\n",
    "\n",
    "\n",
    "# Example usage\n",
    "data_url = \"https://gitlab.com/adpro1/adpro2024/-/raw/main/Files/flight_data.zip?inline=false\"\n",
    "file_name = \"data.zip\"\n",
    "data_downloader = DataDownloader(data_url , file_name)\n"
   ]
  }
 ],
 "metadata": {
  "kernelspec": {
   "display_name": "Python 3 (ipykernel)",
   "language": "python",
   "name": "python3"
  },
  "language_info": {
   "codemirror_mode": {
    "name": "ipython",
    "version": 3
   },
   "file_extension": ".py",
   "mimetype": "text/x-python",
   "name": "python",
   "nbconvert_exporter": "python",
   "pygments_lexer": "ipython3",
   "version": "3.10.13"
  }
 },
 "nbformat": 4,
 "nbformat_minor": 4
}
