{
 "cells": [
  {
   "cell_type": "code",
   "execution_count": 13,
   "id": "c123e2b2-5c77-4d47-9bf4-f6e473e944e1",
   "metadata": {
    "tags": []
   },
   "outputs": [
    {
     "data": {
      "text/plain": [
       "5417.816464197924"
      ]
     },
     "execution_count": 13,
     "metadata": {},
     "output_type": "execute_result"
    }
   ],
   "source": [
    "import sys\n",
    "sys.path.append('/path/to/your/module/parent/directory')\n",
    "from distance_function import haversine_distance\n",
    "\n",
    "haversine_distance(38.8521,-77.037697,54.6575012207,-6.21582984924)"
   ]
  },
  {
   "cell_type": "code",
   "execution_count": null,
   "id": "f3e70dae-20fa-4fef-8020-7ab72401bc97",
   "metadata": {},
   "outputs": [],
   "source": []
  }
 ],
 "metadata": {
  "kernelspec": {
   "display_name": "Python 3 (ipykernel)",
   "language": "python",
   "name": "python3"
  },
  "language_info": {
   "codemirror_mode": {
    "name": "ipython",
    "version": 3
   },
   "file_extension": ".py",
   "mimetype": "text/x-python",
   "name": "python",
   "nbconvert_exporter": "python",
   "pygments_lexer": "ipython3",
   "version": "3.11.4"
  }
 },
 "nbformat": 4,
 "nbformat_minor": 5
}
